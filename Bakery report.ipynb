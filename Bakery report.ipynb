{
 "cells": [
  {
   "cell_type": "markdown",
   "id": "4d2717b7",
   "metadata": {},
   "source": [
    "<h1 style=\"text-align:center; font-family:Baufra; \"><b>Market Basket Analysis </b></h1> "
   ]
  },
  {
   "cell_type": "markdown",
   "id": "e78f0d92",
   "metadata": {},
   "source": [
    "<div style=\"color:white;\n",
    "            display:fill;\n",
    "            border-radius:5px;\n",
    "            background-color:#E8F6EF;  \n",
    "            font-size:100%;\n",
    "            theme: cosmo;\n",
    "            letter-spacing:0.5px\">\n",
    "<h3 style=\"padding-left: 20px; padding-top: 20px; color:#4a4a4a; font-family:Arial;\"><b>About:</b>\n",
    "</h3>\n",
    "<p style=\"padding-left: 20px; padding-right: 20px; color:#4a4a4a; font-size:110%;\">\n",
    "In today's world every buisness wants to raise their profits. From a small pastry shop to a big MNC every one is eager to find out ways to increase their profits.\n",
    "Market basket analysis is one such data mining technique used by retailers to increase sales by better understanding customer purchasing patterns. In this project we\n",
    "shall try to understand the behavorial patterns of customers and try to predict sales of items. \n",
    "</p>\n",
    "</div>"
   ]
  },
  {
   "cell_type": "markdown",
   "id": "e44ee424",
   "metadata": {},
   "source": [
    "### 1. Importing Necessary Dependencies"
   ]
  },
  {
   "cell_type": "code",
   "execution_count": 57,
   "id": "372befe5",
   "metadata": {},
   "outputs": [],
   "source": [
    "import numpy as np\n",
    "import pandas as pd\n",
    "import matplotlib.pyplot as plt\n",
    "import seaborn as sns\n",
    "%matplotlib inline\n",
    "import datetime\n",
    "import warnings\n",
    "warnings.filterwarnings('ignore')"
   ]
  },
  {
   "cell_type": "markdown",
   "id": "eb76080c",
   "metadata": {},
   "source": [
    "### 2. Loading and Reading the dataset"
   ]
  },
  {
   "cell_type": "code",
   "execution_count": 58,
   "id": "2107415a",
   "metadata": {},
   "outputs": [
    {
     "data": {
      "text/html": [
       "<div>\n",
       "<style scoped>\n",
       "    .dataframe tbody tr th:only-of-type {\n",
       "        vertical-align: middle;\n",
       "    }\n",
       "\n",
       "    .dataframe tbody tr th {\n",
       "        vertical-align: top;\n",
       "    }\n",
       "\n",
       "    .dataframe thead th {\n",
       "        text-align: right;\n",
       "    }\n",
       "</style>\n",
       "<table border=\"1\" class=\"dataframe\">\n",
       "  <thead>\n",
       "    <tr style=\"text-align: right;\">\n",
       "      <th></th>\n",
       "      <th>TransactionNo</th>\n",
       "      <th>Items</th>\n",
       "      <th>DateTime</th>\n",
       "      <th>Daypart</th>\n",
       "      <th>DayType</th>\n",
       "    </tr>\n",
       "  </thead>\n",
       "  <tbody>\n",
       "    <tr>\n",
       "      <th>0</th>\n",
       "      <td>1</td>\n",
       "      <td>Bread</td>\n",
       "      <td>2016-10-30 09:58:11</td>\n",
       "      <td>Morning</td>\n",
       "      <td>Weekend</td>\n",
       "    </tr>\n",
       "    <tr>\n",
       "      <th>1</th>\n",
       "      <td>2</td>\n",
       "      <td>Scandinavian</td>\n",
       "      <td>2016-10-30 10:05:34</td>\n",
       "      <td>Morning</td>\n",
       "      <td>Weekend</td>\n",
       "    </tr>\n",
       "    <tr>\n",
       "      <th>2</th>\n",
       "      <td>2</td>\n",
       "      <td>Scandinavian</td>\n",
       "      <td>2016-10-30 10:05:34</td>\n",
       "      <td>Morning</td>\n",
       "      <td>Weekend</td>\n",
       "    </tr>\n",
       "    <tr>\n",
       "      <th>3</th>\n",
       "      <td>3</td>\n",
       "      <td>Hot chocolate</td>\n",
       "      <td>2016-10-30 10:07:57</td>\n",
       "      <td>Morning</td>\n",
       "      <td>Weekend</td>\n",
       "    </tr>\n",
       "    <tr>\n",
       "      <th>4</th>\n",
       "      <td>3</td>\n",
       "      <td>Jam</td>\n",
       "      <td>2016-10-30 10:07:57</td>\n",
       "      <td>Morning</td>\n",
       "      <td>Weekend</td>\n",
       "    </tr>\n",
       "  </tbody>\n",
       "</table>\n",
       "</div>"
      ],
      "text/plain": [
       "   TransactionNo          Items             DateTime  Daypart  DayType\n",
       "0              1          Bread  2016-10-30 09:58:11  Morning  Weekend\n",
       "1              2   Scandinavian  2016-10-30 10:05:34  Morning  Weekend\n",
       "2              2   Scandinavian  2016-10-30 10:05:34  Morning  Weekend\n",
       "3              3  Hot chocolate  2016-10-30 10:07:57  Morning  Weekend\n",
       "4              3            Jam  2016-10-30 10:07:57  Morning  Weekend"
      ]
     },
     "execution_count": 58,
     "metadata": {},
     "output_type": "execute_result"
    }
   ],
   "source": [
    "df = pd.read_csv('Bakery.csv')\n",
    "df.head()"
   ]
  },
  {
   "cell_type": "code",
   "execution_count": 59,
   "id": "1a5c08f9",
   "metadata": {},
   "outputs": [
    {
     "data": {
      "text/plain": [
       "(20507, 5)"
      ]
     },
     "execution_count": 59,
     "metadata": {},
     "output_type": "execute_result"
    }
   ],
   "source": [
    "df.shape"
   ]
  },
  {
   "cell_type": "code",
   "execution_count": 60,
   "id": "fc577b35",
   "metadata": {},
   "outputs": [
    {
     "name": "stdout",
     "output_type": "stream",
     "text": [
      "<class 'pandas.core.frame.DataFrame'>\n",
      "RangeIndex: 20507 entries, 0 to 20506\n",
      "Data columns (total 5 columns):\n",
      " #   Column         Non-Null Count  Dtype \n",
      "---  ------         --------------  ----- \n",
      " 0   TransactionNo  20507 non-null  int64 \n",
      " 1   Items          20507 non-null  object\n",
      " 2   DateTime       20507 non-null  object\n",
      " 3   Daypart        20507 non-null  object\n",
      " 4   DayType        20507 non-null  object\n",
      "dtypes: int64(1), object(4)\n",
      "memory usage: 801.2+ KB\n"
     ]
    }
   ],
   "source": [
    "df.info()"
   ]
  },
  {
   "cell_type": "code",
   "execution_count": 61,
   "id": "32218307",
   "metadata": {},
   "outputs": [
    {
     "data": {
      "text/html": [
       "<div>\n",
       "<style scoped>\n",
       "    .dataframe tbody tr th:only-of-type {\n",
       "        vertical-align: middle;\n",
       "    }\n",
       "\n",
       "    .dataframe tbody tr th {\n",
       "        vertical-align: top;\n",
       "    }\n",
       "\n",
       "    .dataframe thead th {\n",
       "        text-align: right;\n",
       "    }\n",
       "</style>\n",
       "<table border=\"1\" class=\"dataframe\">\n",
       "  <thead>\n",
       "    <tr style=\"text-align: right;\">\n",
       "      <th></th>\n",
       "      <th>Items</th>\n",
       "      <th>DateTime</th>\n",
       "      <th>Daypart</th>\n",
       "      <th>DayType</th>\n",
       "    </tr>\n",
       "  </thead>\n",
       "  <tbody>\n",
       "    <tr>\n",
       "      <th>count</th>\n",
       "      <td>20507</td>\n",
       "      <td>20507</td>\n",
       "      <td>20507</td>\n",
       "      <td>20507</td>\n",
       "    </tr>\n",
       "    <tr>\n",
       "      <th>unique</th>\n",
       "      <td>94</td>\n",
       "      <td>9465</td>\n",
       "      <td>4</td>\n",
       "      <td>2</td>\n",
       "    </tr>\n",
       "    <tr>\n",
       "      <th>top</th>\n",
       "      <td>Coffee</td>\n",
       "      <td>2017-02-17 14:18:20</td>\n",
       "      <td>Afternoon</td>\n",
       "      <td>Weekday</td>\n",
       "    </tr>\n",
       "    <tr>\n",
       "      <th>freq</th>\n",
       "      <td>5471</td>\n",
       "      <td>11</td>\n",
       "      <td>11569</td>\n",
       "      <td>12807</td>\n",
       "    </tr>\n",
       "  </tbody>\n",
       "</table>\n",
       "</div>"
      ],
      "text/plain": [
       "         Items             DateTime    Daypart  DayType\n",
       "count    20507                20507      20507    20507\n",
       "unique      94                 9465          4        2\n",
       "top     Coffee  2017-02-17 14:18:20  Afternoon  Weekday\n",
       "freq      5471                   11      11569    12807"
      ]
     },
     "execution_count": 61,
     "metadata": {},
     "output_type": "execute_result"
    }
   ],
   "source": [
    "df.describe(include=object)"
   ]
  },
  {
   "cell_type": "code",
   "execution_count": 62,
   "id": "10d55cbf",
   "metadata": {},
   "outputs": [
    {
     "data": {
      "text/plain": [
       "TransactionNo    0\n",
       "Items            0\n",
       "DateTime         0\n",
       "Daypart          0\n",
       "DayType          0\n",
       "dtype: int64"
      ]
     },
     "execution_count": 62,
     "metadata": {},
     "output_type": "execute_result"
    }
   ],
   "source": [
    "df.isnull().sum()"
   ]
  },
  {
   "cell_type": "code",
   "execution_count": 63,
   "id": "30d17534",
   "metadata": {},
   "outputs": [
    {
     "data": {
      "text/plain": [
       "array(['Morning', 'Afternoon', 'Evening', 'Night'], dtype=object)"
      ]
     },
     "execution_count": 63,
     "metadata": {},
     "output_type": "execute_result"
    }
   ],
   "source": [
    "df.Daypart.unique()"
   ]
  },
  {
   "cell_type": "code",
   "execution_count": 64,
   "id": "0f0916a8",
   "metadata": {},
   "outputs": [
    {
     "data": {
      "text/plain": [
       "array(['Weekend', 'Weekday'], dtype=object)"
      ]
     },
     "execution_count": 64,
     "metadata": {},
     "output_type": "execute_result"
    }
   ],
   "source": [
    "df.DayType.unique()"
   ]
  },
  {
   "cell_type": "code",
   "execution_count": 65,
   "id": "47c341a4",
   "metadata": {},
   "outputs": [
    {
     "data": {
      "text/plain": [
       "'2016-01-11 07:51:20'"
      ]
     },
     "execution_count": 65,
     "metadata": {},
     "output_type": "execute_result"
    }
   ],
   "source": [
    "df['DateTime'].min()"
   ]
  },
  {
   "cell_type": "code",
   "execution_count": 66,
   "id": "1da518f8",
   "metadata": {},
   "outputs": [
    {
     "data": {
      "text/plain": [
       "'2017-12-03 16:28:00'"
      ]
     },
     "execution_count": 66,
     "metadata": {},
     "output_type": "execute_result"
    }
   ],
   "source": [
    "df['DateTime'].max()"
   ]
  },
  {
   "cell_type": "markdown",
   "id": "622c693a",
   "metadata": {},
   "source": [
    "<div style=\"color:white;\n",
    "            display:fill;\n",
    "            border-radius:5px;\n",
    "            background-color:#E8F6EF;  \n",
    "            font-size:100%;\n",
    "            theme: cosmo;\n",
    "            letter-spacing:0.5px\">\n",
    "<h3 style=\"padding-left: 20px; padding-top: 20px; color:#4a4a4a; font-family:Arial;\"><b>Overview</b>\n",
    "</h3>\n",
    "<p style=\"padding-left: 20px; padding-right: 20px; color:#4a4a4a; font-size:110%;\">\n",
    "The dataset belongs to \"The Bread Basket\" a bakery located in Edinburgh. This dataset gives an idea of the transaction details of customers who ordered different items from this bakery online during the time period from 26-01-11 to 27-12-03. The dataset has <b>20507</b>  entries, over <b>9000</b> transactions, and 4 columns.\n",
    "   \n",
    "</p>\n",
    "<ul style=\"padding-left: 40px; padding-bottom: 20px; color:#4a4a4a; font-size:110%;\">\n",
    "    <li>Number of variables: 1</li>\n",
    "    <li>Numeric variables: 1</li>\n",
    "    <li>Categorical variables: 4</li>\n",
    "    <li>Number of observations: 20507</li>\n",
    "    <li>Total number of transactions: 9465</li>\n",
    "    <li>Missing cells : 0</li>\n",
    "</ul>\n",
    "</div>"
   ]
  },
  {
   "cell_type": "markdown",
   "id": "a1e7d935",
   "metadata": {},
   "source": [
    "<div style=\"color:white;\n",
    "            display:fill;\n",
    "            border-radius:5px;\n",
    "            background-color:#E8F6EF;  \n",
    "            font-size:100%;\n",
    "            theme:cosmo;\n",
    "            letter-spacing:0.5px\">\n",
    "<h3 style=\"padding-left: 20px; padding-top: 20px; color:#4a4a4a; font-family:Arial;\"><b>Variables</b>\n",
    "</h3>\n",
    "<ul style=\"padding-left: 40px; padding-bottom: 20px; color:#4a4a4a; font-size:110%;\">\n",
    "    <li><code>TransactionNo</code> : <b>9465</b> distinct values</li>\n",
    "    <li><code><b>Items</b></code> has a high cardinality: <b>94</b> distinct values</li>\n",
    "    <li><code><b>DateTime</b></code> has a high cardinality: <b>9182</b> distinct values</li>\n",
    "    <li><code><b>Daypart</b></code> has <b>4</b> distinct values</li>\n",
    "    <li><code><b>DayType</b></code> has <b>2</b> distinct values</li>\n",
    "</ul>\n",
    "</div>"
   ]
  },
  {
   "cell_type": "markdown",
   "id": "ade3e529",
   "metadata": {},
   "source": [
    "<h2 style=\"text-align:left; font-family:Arial;\"><b>3. Data Exploration and Visualization</b></h2> "
   ]
  },
  {
   "cell_type": "markdown",
   "id": "6449b056",
   "metadata": {},
   "source": [
    "<h3 style=\"text-align:left; font-family:Arial;\"><b>3.1 Let's look into the frequent items and the best sellers</b></h3> "
   ]
  },
  {
   "cell_type": "code",
   "execution_count": 67,
   "id": "980e060a",
   "metadata": {},
   "outputs": [
    {
     "data": {
      "text/plain": [
       "Coffee           5471\n",
       "Bread            3325\n",
       "Tea              1435\n",
       "Cake             1025\n",
       "Pastry            856\n",
       "Sandwich          771\n",
       "Medialuna         616\n",
       "Hot chocolate     590\n",
       "Cookies           540\n",
       "Brownie           379\n",
       "Name: Items, dtype: int64"
      ]
     },
     "execution_count": 67,
     "metadata": {},
     "output_type": "execute_result"
    }
   ],
   "source": [
    "df['Items'].value_counts().head(10)"
   ]
  },
  {
   "cell_type": "code",
   "execution_count": 68,
   "id": "2f0fbcdc",
   "metadata": {},
   "outputs": [
    {
     "data": {
      "text/plain": [
       "<AxesSubplot:title={'center':'Top 10 sold items'}, xlabel='Items', ylabel='Sales in figures'>"
      ]
     },
     "execution_count": 68,
     "metadata": {},
     "output_type": "execute_result"
    },
    {
     "data": {
      "image/png": "[encoded data removed]",
      "text/plain": [
       "<Figure size 792x396 with 1 Axes>"
      ]
     },
     "metadata": {
      "needs_background": "light"
     },
     "output_type": "display_data"
    }
   ],
   "source": [
    "x1=list(df['Items'].value_counts().head(10).keys())\n",
    "y1=list(df['Items'].value_counts().head(10))\n",
    "plt.figure(figsize=(11,5.5))\n",
    "palette=sns.color_palette(\"YlOrBr\")\n",
    "palette.reverse()\n",
    "plt.title(\"Top 10 sold items\",fontsize=25)\n",
    "plt.xticks(fontsize=10)\n",
    "plt.xlabel('Items',fontsize=15)\n",
    "plt.ylabel('Sales in figures',fontsize=15)\n",
    "sns.barplot(x=x1,y=y1,palette=palette)\n"
   ]
  },
  {
   "cell_type": "markdown",
   "id": "1035ba45",
   "metadata": {},
   "source": [
    "<div style=\"color:white;\n",
    "            display:fill;\n",
    "            border-radius:5px;\n",
    "            background-color:#FFFFE0;  \n",
    "            font-size:100%;\n",
    "            theme:cosmo;\n",
    "            letter-spacing:0.5px\">\n",
    "<h3 style=\"padding-left: 20px; padding-top: 20px; color:#4a4a4a; font-family:Arial;\"><b>The Top Selling Items are:</b>\n",
    "</h3>\n",
    "<ol style=\"padding-left: 40px; padding-bottom: 20px; color:#4a4a4a; font-size:110%;\">\n",
    "<li>Coffee</li>\n",
    "<li>Bread</li>\n",
    "<li>Tea</li>\n",
    "<li>Cake</li>\n",
    "<li>Pastry</li>  \n",
    "</ol>\n",
    "</div>"
   ]
  },
  {
   "cell_type": "markdown",
   "id": "b26fa8ba",
   "metadata": {},
   "source": [
    "<h3 style=\"text-align:left; font-family:Arial;\"><b>3.2 Let's try to get the daywise sales report</b></h3> "
   ]
  },
  {
   "cell_type": "code",
   "execution_count": 69,
   "id": "da7b3bdf",
   "metadata": {},
   "outputs": [
    {
     "data": {
      "text/html": [
       "<div>\n",
       "<style scoped>\n",
       "    .dataframe tbody tr th:only-of-type {\n",
       "        vertical-align: middle;\n",
       "    }\n",
       "\n",
       "    .dataframe tbody tr th {\n",
       "        vertical-align: top;\n",
       "    }\n",
       "\n",
       "    .dataframe thead th {\n",
       "        text-align: right;\n",
       "    }\n",
       "</style>\n",
       "<table border=\"1\" class=\"dataframe\">\n",
       "  <thead>\n",
       "    <tr style=\"text-align: right;\">\n",
       "      <th></th>\n",
       "      <th>TransactionNo</th>\n",
       "      <th>Items</th>\n",
       "      <th>DateTime</th>\n",
       "      <th>Daypart</th>\n",
       "      <th>DayType</th>\n",
       "      <th>Count</th>\n",
       "      <th>Day</th>\n",
       "    </tr>\n",
       "  </thead>\n",
       "  <tbody>\n",
       "    <tr>\n",
       "      <th>0</th>\n",
       "      <td>1</td>\n",
       "      <td>Bread</td>\n",
       "      <td>2016-10-30 09:58:11</td>\n",
       "      <td>Morning</td>\n",
       "      <td>Weekend</td>\n",
       "      <td>1</td>\n",
       "      <td>Sunday</td>\n",
       "    </tr>\n",
       "    <tr>\n",
       "      <th>1</th>\n",
       "      <td>2</td>\n",
       "      <td>Scandinavian</td>\n",
       "      <td>2016-10-30 10:05:34</td>\n",
       "      <td>Morning</td>\n",
       "      <td>Weekend</td>\n",
       "      <td>1</td>\n",
       "      <td>Sunday</td>\n",
       "    </tr>\n",
       "    <tr>\n",
       "      <th>2</th>\n",
       "      <td>2</td>\n",
       "      <td>Scandinavian</td>\n",
       "      <td>2016-10-30 10:05:34</td>\n",
       "      <td>Morning</td>\n",
       "      <td>Weekend</td>\n",
       "      <td>1</td>\n",
       "      <td>Sunday</td>\n",
       "    </tr>\n",
       "    <tr>\n",
       "      <th>3</th>\n",
       "      <td>3</td>\n",
       "      <td>Hot chocolate</td>\n",
       "      <td>2016-10-30 10:07:57</td>\n",
       "      <td>Morning</td>\n",
       "      <td>Weekend</td>\n",
       "      <td>1</td>\n",
       "      <td>Sunday</td>\n",
       "    </tr>\n",
       "    <tr>\n",
       "      <th>4</th>\n",
       "      <td>3</td>\n",
       "      <td>Jam</td>\n",
       "      <td>2016-10-30 10:07:57</td>\n",
       "      <td>Morning</td>\n",
       "      <td>Weekend</td>\n",
       "      <td>1</td>\n",
       "      <td>Sunday</td>\n",
       "    </tr>\n",
       "  </tbody>\n",
       "</table>\n",
       "</div>"
      ],
      "text/plain": [
       "   TransactionNo          Items             DateTime  Daypart  DayType  Count  \\\n",
       "0              1          Bread  2016-10-30 09:58:11  Morning  Weekend      1   \n",
       "1              2   Scandinavian  2016-10-30 10:05:34  Morning  Weekend      1   \n",
       "2              2   Scandinavian  2016-10-30 10:05:34  Morning  Weekend      1   \n",
       "3              3  Hot chocolate  2016-10-30 10:07:57  Morning  Weekend      1   \n",
       "4              3            Jam  2016-10-30 10:07:57  Morning  Weekend      1   \n",
       "\n",
       "      Day  \n",
       "0  Sunday  \n",
       "1  Sunday  \n",
       "2  Sunday  \n",
       "3  Sunday  \n",
       "4  Sunday  "
      ]
     },
     "execution_count": 69,
     "metadata": {},
     "output_type": "execute_result"
    }
   ],
   "source": [
    "df_day=df.copy()\n",
    "df_day['Count']=1\n",
    "df_day['Day']=pd.to_datetime(df_day['DateTime']).dt.day_name()\n",
    "df_day.head()"
   ]
  },
  {
   "cell_type": "code",
   "execution_count": 70,
   "id": "192eb177",
   "metadata": {},
   "outputs": [
    {
     "data": {
      "text/plain": [
       "Day\n",
       "Friday       3266\n",
       "Monday       3035\n",
       "Saturday     3554\n",
       "Sunday       3118\n",
       "Thursday     2601\n",
       "Tuesday      2645\n",
       "Wednesday    2288\n",
       "Name: Count, dtype: int64"
      ]
     },
     "execution_count": 70,
     "metadata": {},
     "output_type": "execute_result"
    }
   ],
   "source": [
    "df_day.groupby(['Day']).count()['Count']"
   ]
  },
  {
   "cell_type": "code",
   "execution_count": 82,
   "id": "83baa5e6",
   "metadata": {},
   "outputs": [
    {
     "data": {
      "image/png": "[encoded data removed]",
      "text/plain": [
       "<Figure size 684x396 with 1 Axes>"
      ]
     },
     "metadata": {},
     "output_type": "display_data"
    }
   ],
   "source": [
    "label =list(df_day.groupby(['Day']).count()['Count'].keys())\n",
    "data = list(df_day.groupby(['Day']).count()['Count'])\n",
    "plt.figure(figsize=(9.5,5.5))\n",
    "colors = sns.color_palette(\"Paired\")[0:7]\n",
    "plt.pie(data, labels = label, colors = colors, autopct='%.0f%%');"
   ]
  },
  {
   "cell_type": "markdown",
   "id": "5de5cfa7",
   "metadata": {},
   "source": [
    "<div style=\"color:white;\n",
    "            display:fill;\n",
    "            border-radius:5px;\n",
    "            background-color:#FFFFE0;  \n",
    "            font-size:100%;\n",
    "            theme:cosmo;\n",
    "            letter-spacing:0.5px\">\n",
    "<h3 style=\"padding-left: 20px; padding-top: 20px; color:#4a4a4a; font-family:Arial;\"><b>From the pie chart we observe the following:</b>\n",
    "</h3>\n",
    "<ol style=\"padding-left: 40px; padding-bottom: 20px; color:#4a4a4a; font-size:110%;\">\n",
    "<li>Weekends have a higher sale. </li>\n",
    "    <li>Between <b>Friday</b> and <b>Monday</b> the sales are very high .</li>\n",
    "<li>Wednesday has the lowest sales.</li>\n",
    "</ol>\n",
    "</div>\n",
    "    "
   ]
  },
  {
   "cell_type": "markdown",
   "id": "73228803",
   "metadata": {},
   "source": [
    "<h3 style=\"text-align:left; font-family:Arial;\"><b>3.3 Let's try to understand the sales pattern throughout the day. Does time affect sales? </b></h3> "
   ]
  },
  {
   "cell_type": "code",
   "execution_count": 72,
   "id": "ce0b6d63",
   "metadata": {},
   "outputs": [
    {
     "data": {
      "text/plain": [
       "Daypart\n",
       "Afternoon    11569\n",
       "Evening        520\n",
       "Morning       8404\n",
       "Night           14\n",
       "Name: Items, dtype: int64"
      ]
     },
     "execution_count": 72,
     "metadata": {},
     "output_type": "execute_result"
    }
   ],
   "source": [
    "df.groupby('Daypart')['Items'].count()"
   ]
  },
  {
   "cell_type": "code",
   "execution_count": 73,
   "id": "bda980da",
   "metadata": {},
   "outputs": [],
   "source": [
    "df_hr = df.copy()"
   ]
  },
  {
   "cell_type": "code",
   "execution_count": 74,
   "id": "17bdf888",
   "metadata": {},
   "outputs": [
    {
     "data": {
      "text/html": [
       "<div>\n",
       "<style scoped>\n",
       "    .dataframe tbody tr th:only-of-type {\n",
       "        vertical-align: middle;\n",
       "    }\n",
       "\n",
       "    .dataframe tbody tr th {\n",
       "        vertical-align: top;\n",
       "    }\n",
       "\n",
       "    .dataframe thead th {\n",
       "        text-align: right;\n",
       "    }\n",
       "</style>\n",
       "<table border=\"1\" class=\"dataframe\">\n",
       "  <thead>\n",
       "    <tr style=\"text-align: right;\">\n",
       "      <th></th>\n",
       "      <th>TransactionNo</th>\n",
       "      <th>Items</th>\n",
       "      <th>DateTime</th>\n",
       "      <th>Daypart</th>\n",
       "      <th>DayType</th>\n",
       "      <th>Hour</th>\n",
       "      <th>Count</th>\n",
       "    </tr>\n",
       "  </thead>\n",
       "  <tbody>\n",
       "    <tr>\n",
       "      <th>0</th>\n",
       "      <td>1</td>\n",
       "      <td>Bread</td>\n",
       "      <td>2016-10-30 09:58:11</td>\n",
       "      <td>Morning</td>\n",
       "      <td>Weekend</td>\n",
       "      <td>9</td>\n",
       "      <td>1</td>\n",
       "    </tr>\n",
       "    <tr>\n",
       "      <th>1</th>\n",
       "      <td>2</td>\n",
       "      <td>Scandinavian</td>\n",
       "      <td>2016-10-30 10:05:34</td>\n",
       "      <td>Morning</td>\n",
       "      <td>Weekend</td>\n",
       "      <td>10</td>\n",
       "      <td>1</td>\n",
       "    </tr>\n",
       "    <tr>\n",
       "      <th>2</th>\n",
       "      <td>2</td>\n",
       "      <td>Scandinavian</td>\n",
       "      <td>2016-10-30 10:05:34</td>\n",
       "      <td>Morning</td>\n",
       "      <td>Weekend</td>\n",
       "      <td>10</td>\n",
       "      <td>1</td>\n",
       "    </tr>\n",
       "    <tr>\n",
       "      <th>3</th>\n",
       "      <td>3</td>\n",
       "      <td>Hot chocolate</td>\n",
       "      <td>2016-10-30 10:07:57</td>\n",
       "      <td>Morning</td>\n",
       "      <td>Weekend</td>\n",
       "      <td>10</td>\n",
       "      <td>1</td>\n",
       "    </tr>\n",
       "    <tr>\n",
       "      <th>4</th>\n",
       "      <td>3</td>\n",
       "      <td>Jam</td>\n",
       "      <td>2016-10-30 10:07:57</td>\n",
       "      <td>Morning</td>\n",
       "      <td>Weekend</td>\n",
       "      <td>10</td>\n",
       "      <td>1</td>\n",
       "    </tr>\n",
       "  </tbody>\n",
       "</table>\n",
       "</div>"
      ],
      "text/plain": [
       "   TransactionNo          Items             DateTime  Daypart  DayType  Hour  \\\n",
       "0              1          Bread  2016-10-30 09:58:11  Morning  Weekend     9   \n",
       "1              2   Scandinavian  2016-10-30 10:05:34  Morning  Weekend    10   \n",
       "2              2   Scandinavian  2016-10-30 10:05:34  Morning  Weekend    10   \n",
       "3              3  Hot chocolate  2016-10-30 10:07:57  Morning  Weekend    10   \n",
       "4              3            Jam  2016-10-30 10:07:57  Morning  Weekend    10   \n",
       "\n",
       "   Count  \n",
       "0      1  \n",
       "1      1  \n",
       "2      1  \n",
       "3      1  \n",
       "4      1  "
      ]
     },
     "execution_count": 74,
     "metadata": {},
     "output_type": "execute_result"
    }
   ],
   "source": [
    "df_hr['Hour'] = pd.to_datetime(df_hr['DateTime']).dt.hour\n",
    "df_hr['Count']=1\n",
    "df_hr.head()"
   ]
  },
  {
   "cell_type": "code",
   "execution_count": 75,
   "id": "f502be71",
   "metadata": {
    "scrolled": true
   },
   "outputs": [
    {
     "data": {
      "text/plain": [
       "Hour\n",
       "1        1\n",
       "7       24\n",
       "8      645\n",
       "9     1966\n",
       "10    2666\n",
       "11    3102\n",
       "12    2854\n",
       "13    2617\n",
       "14    2640\n",
       "15    2115\n",
       "16    1343\n",
       "17     368\n",
       "18      82\n",
       "19      48\n",
       "20      22\n",
       "21       3\n",
       "22       8\n",
       "23       3\n",
       "Name: Count, dtype: int64"
      ]
     },
     "execution_count": 75,
     "metadata": {},
     "output_type": "execute_result"
    }
   ],
   "source": [
    "df_hr.groupby(['Hour']).count()['Count']"
   ]
  },
  {
   "cell_type": "code",
   "execution_count": 76,
   "id": "c6c213fb",
   "metadata": {},
   "outputs": [
    {
     "data": {
      "text/plain": [
       "(7.0, 24.0)"
      ]
     },
     "execution_count": 76,
     "metadata": {},
     "output_type": "execute_result"
    },
    {
     "data": {
      "image/png": "[encoded data removed]",
      "text/plain": [
       "<Figure size 432x288 with 1 Axes>"
      ]
     },
     "metadata": {
      "needs_background": "light"
     },
     "output_type": "display_data"
    }
   ],
   "source": [
    "keys = [pair for pair, df in df_hr.groupby(['Hour'])]\n",
    "plt.xticks(keys)\n",
    "plt.plot(11, 3102, marker=\"o\", markersize=5)\n",
    "plt.title(\"Hourly Analysis\",fontsize=25)\n",
    "plt.xlabel('Time of the day in Hrs',fontsize=15)\n",
    "plt.ylabel('Sales in figures',fontsize=15)\n",
    "\n",
    "sns.lineplot(x=keys,y=df_hr.groupby(['Hour']).count()['Count'])\n",
    "sns.set(rc={'figure.figsize':(10,8)})\n",
    "\n",
    "plt.xlim(7,24)"
   ]
  },
  {
   "cell_type": "markdown",
   "id": "cd7c28a2",
   "metadata": {},
   "source": [
    "<div style=\"color:white;\n",
    "            display:fill;\n",
    "            border-radius:5px;\n",
    "            background-color:#FFFFE0;  \n",
    "            font-size:100%;\n",
    "            theme:cosmo;\n",
    "            letter-spacing:0.5px\">\n",
    "<h3 style=\"padding-left: 20px; padding-top: 20px; color:#4a4a4a; font-family:Arial;\"><b>The hourly analysis tells us that:</b>\n",
    "</h3>\n",
    "<ol style=\"padding-left: 40px; padding-bottom: 20px; color:#4a4a4a; font-size:110%;\">\n",
    "    <li>Sales is at the peak in <b>Afternoon</b></li>\n",
    "    <li>The highest sales happens from <b>10 AM</b>  till <b>3 PM</b>.</li>\n",
    "<li>Throughout the morning the sales keeps <b>increasing</b>. </li>\n",
    "<li>The sales decreases after <b>3 PM</b> .</li>\n",
    "</ol>\n",
    "</div>\n",
    "    "
   ]
  },
  {
   "cell_type": "markdown",
   "id": "53ea8d7a",
   "metadata": {},
   "source": [
    "<h3 style=\"text-align:left; font-family:Arial;\"><b>3.4 Now let's try to find out about the monthly sales and are the sales affected by seasons?</b></h3> "
   ]
  },
  {
   "cell_type": "code",
   "execution_count": 77,
   "id": "5cce57ff",
   "metadata": {},
   "outputs": [
    {
     "data": {
      "text/html": [
       "<div>\n",
       "<style scoped>\n",
       "    .dataframe tbody tr th:only-of-type {\n",
       "        vertical-align: middle;\n",
       "    }\n",
       "\n",
       "    .dataframe tbody tr th {\n",
       "        vertical-align: top;\n",
       "    }\n",
       "\n",
       "    .dataframe thead th {\n",
       "        text-align: right;\n",
       "    }\n",
       "</style>\n",
       "<table border=\"1\" class=\"dataframe\">\n",
       "  <thead>\n",
       "    <tr style=\"text-align: right;\">\n",
       "      <th></th>\n",
       "      <th>TransactionNo</th>\n",
       "      <th>Items</th>\n",
       "      <th>DateTime</th>\n",
       "      <th>Daypart</th>\n",
       "      <th>DayType</th>\n",
       "      <th>Month</th>\n",
       "      <th>Count</th>\n",
       "    </tr>\n",
       "  </thead>\n",
       "  <tbody>\n",
       "    <tr>\n",
       "      <th>0</th>\n",
       "      <td>1</td>\n",
       "      <td>Bread</td>\n",
       "      <td>2016-10-30 09:58:11</td>\n",
       "      <td>Morning</td>\n",
       "      <td>Weekend</td>\n",
       "      <td>10</td>\n",
       "      <td>1</td>\n",
       "    </tr>\n",
       "    <tr>\n",
       "      <th>1</th>\n",
       "      <td>2</td>\n",
       "      <td>Scandinavian</td>\n",
       "      <td>2016-10-30 10:05:34</td>\n",
       "      <td>Morning</td>\n",
       "      <td>Weekend</td>\n",
       "      <td>10</td>\n",
       "      <td>1</td>\n",
       "    </tr>\n",
       "    <tr>\n",
       "      <th>2</th>\n",
       "      <td>2</td>\n",
       "      <td>Scandinavian</td>\n",
       "      <td>2016-10-30 10:05:34</td>\n",
       "      <td>Morning</td>\n",
       "      <td>Weekend</td>\n",
       "      <td>10</td>\n",
       "      <td>1</td>\n",
       "    </tr>\n",
       "    <tr>\n",
       "      <th>3</th>\n",
       "      <td>3</td>\n",
       "      <td>Hot chocolate</td>\n",
       "      <td>2016-10-30 10:07:57</td>\n",
       "      <td>Morning</td>\n",
       "      <td>Weekend</td>\n",
       "      <td>10</td>\n",
       "      <td>1</td>\n",
       "    </tr>\n",
       "    <tr>\n",
       "      <th>4</th>\n",
       "      <td>3</td>\n",
       "      <td>Jam</td>\n",
       "      <td>2016-10-30 10:07:57</td>\n",
       "      <td>Morning</td>\n",
       "      <td>Weekend</td>\n",
       "      <td>10</td>\n",
       "      <td>1</td>\n",
       "    </tr>\n",
       "  </tbody>\n",
       "</table>\n",
       "</div>"
      ],
      "text/plain": [
       "   TransactionNo          Items             DateTime  Daypart  DayType  Month  \\\n",
       "0              1          Bread  2016-10-30 09:58:11  Morning  Weekend     10   \n",
       "1              2   Scandinavian  2016-10-30 10:05:34  Morning  Weekend     10   \n",
       "2              2   Scandinavian  2016-10-30 10:05:34  Morning  Weekend     10   \n",
       "3              3  Hot chocolate  2016-10-30 10:07:57  Morning  Weekend     10   \n",
       "4              3            Jam  2016-10-30 10:07:57  Morning  Weekend     10   \n",
       "\n",
       "   Count  \n",
       "0      1  \n",
       "1      1  \n",
       "2      1  \n",
       "3      1  \n",
       "4      1  "
      ]
     },
     "execution_count": 77,
     "metadata": {},
     "output_type": "execute_result"
    }
   ],
   "source": [
    "df_month = df.copy()\n",
    "df_month['Month'] = pd.to_datetime(df_month['DateTime']).dt.month\n",
    "df_month['Count']=1\n",
    "df_month.head()"
   ]
  },
  {
   "cell_type": "code",
   "execution_count": 78,
   "id": "60ce26e2",
   "metadata": {},
   "outputs": [
    {
     "data": {
      "text/html": [
       "<div>\n",
       "<style scoped>\n",
       "    .dataframe tbody tr th:only-of-type {\n",
       "        vertical-align: middle;\n",
       "    }\n",
       "\n",
       "    .dataframe tbody tr th {\n",
       "        vertical-align: top;\n",
       "    }\n",
       "\n",
       "    .dataframe thead th {\n",
       "        text-align: right;\n",
       "    }\n",
       "</style>\n",
       "<table border=\"1\" class=\"dataframe\">\n",
       "  <thead>\n",
       "    <tr style=\"text-align: right;\">\n",
       "      <th></th>\n",
       "      <th>Count</th>\n",
       "    </tr>\n",
       "    <tr>\n",
       "      <th>Month</th>\n",
       "      <th></th>\n",
       "    </tr>\n",
       "  </thead>\n",
       "  <tbody>\n",
       "    <tr>\n",
       "      <th>1</th>\n",
       "      <td>3027</td>\n",
       "    </tr>\n",
       "    <tr>\n",
       "      <th>2</th>\n",
       "      <td>2748</td>\n",
       "    </tr>\n",
       "    <tr>\n",
       "      <th>3</th>\n",
       "      <td>3220</td>\n",
       "    </tr>\n",
       "    <tr>\n",
       "      <th>4</th>\n",
       "      <td>1048</td>\n",
       "    </tr>\n",
       "    <tr>\n",
       "      <th>5</th>\n",
       "      <td>924</td>\n",
       "    </tr>\n",
       "    <tr>\n",
       "      <th>6</th>\n",
       "      <td>739</td>\n",
       "    </tr>\n",
       "    <tr>\n",
       "      <th>7</th>\n",
       "      <td>741</td>\n",
       "    </tr>\n",
       "    <tr>\n",
       "      <th>8</th>\n",
       "      <td>700</td>\n",
       "    </tr>\n",
       "    <tr>\n",
       "      <th>9</th>\n",
       "      <td>596</td>\n",
       "    </tr>\n",
       "    <tr>\n",
       "      <th>10</th>\n",
       "      <td>1041</td>\n",
       "    </tr>\n",
       "    <tr>\n",
       "      <th>11</th>\n",
       "      <td>3076</td>\n",
       "    </tr>\n",
       "    <tr>\n",
       "      <th>12</th>\n",
       "      <td>2647</td>\n",
       "    </tr>\n",
       "  </tbody>\n",
       "</table>\n",
       "</div>"
      ],
      "text/plain": [
       "       Count\n",
       "Month       \n",
       "1       3027\n",
       "2       2748\n",
       "3       3220\n",
       "4       1048\n",
       "5        924\n",
       "6        739\n",
       "7        741\n",
       "8        700\n",
       "9        596\n",
       "10      1041\n",
       "11      3076\n",
       "12      2647"
      ]
     },
     "execution_count": 78,
     "metadata": {},
     "output_type": "execute_result"
    }
   ],
   "source": [
    "df_monthly=df_month.groupby(['Month']).count()['Count'].to_frame()\n",
    "df_monthly"
   ]
  },
  {
   "cell_type": "code",
   "execution_count": 79,
   "id": "42d18a8e",
   "metadata": {},
   "outputs": [
    {
     "data": {
      "text/plain": [
       "Text(0, 0.5, 'Sales in number')"
      ]
     },
     "execution_count": 79,
     "metadata": {},
     "output_type": "execute_result"
    },
    {
     "data": {
      "image/png": "[encoded data removed]",
      "text/plain": [
       "<Figure size 684x396 with 1 Axes>"
      ]
     },
     "metadata": {},
     "output_type": "display_data"
    }
   ],
   "source": [
    "clrs = ['grey' if (x < 2500) else 'red' for x in df_monthly.Count ]\n",
    "month=['January','February','March','April','May','June','July','August','September','October','November','December']\n",
    "plt.figure(figsize=(9.5,5.5))\n",
    "plt.title(\"Monthly Sales\",fontsize=25)\n",
    "g= sns.barplot(x=df_monthly.index,y=df_monthly.Count,data=df_monthly,palette=clrs)\n",
    "g.set_xticklabels(month,rotation=30,fontsize = 15)\n",
    "g.set_xlabel(\"Months\", fontsize = 20)\n",
    "g.set_ylabel(\"Sales in number\", fontsize = 20)"
   ]
  },
  {
   "cell_type": "markdown",
   "id": "46e6f288",
   "metadata": {},
   "source": [
    "<div style=\"color:white;\n",
    "            display:fill;\n",
    "            border-radius:5px;\n",
    "            background-color:#FFFFE0;  \n",
    "            font-size:100%;\n",
    "            theme:cosmo;\n",
    "            letter-spacing:0.5px\">\n",
    "<h3 style=\"padding-left: 20px; padding-top: 20px; color:#4a4a4a; font-family:Arial;\"><b>From the above bar chart we observe that:</b>\n",
    "</h3>\n",
    "<ul style=\"padding-left: 40px; padding-bottom: 20px; color:#4a4a4a; font-size:110%;\">\n",
    "    <li>The period from <b>November</b> to <b>March</b> has the <u>highest sales</u>.</li>\n",
    "<li>The period from April to October has lowest sales.</li>\n",
    "<li>We can infer that people prefer baked items in the Winters.</li>\n",
    "</ul>\n",
    "</div>\n",
    "    "
   ]
  },
  {
   "cell_type": "markdown",
   "id": "2c6a8013",
   "metadata": {},
   "source": [
    "#### \n",
    "<h3 style=\"text-align:left; font-family:Arial;\"><b>3.5 Now we try to find out is there a buying pattern in customers, do they buy some items together? So we can recommend something to them </b></h3> "
   ]
  },
  {
   "cell_type": "code",
   "execution_count": 80,
   "id": "6be89d79",
   "metadata": {},
   "outputs": [
    {
     "data": {
      "text/html": [
       "<div>\n",
       "<style scoped>\n",
       "    .dataframe tbody tr th:only-of-type {\n",
       "        vertical-align: middle;\n",
       "    }\n",
       "\n",
       "    .dataframe tbody tr th {\n",
       "        vertical-align: top;\n",
       "    }\n",
       "\n",
       "    .dataframe thead th {\n",
       "        text-align: right;\n",
       "    }\n",
       "</style>\n",
       "<table border=\"1\" class=\"dataframe\">\n",
       "  <thead>\n",
       "    <tr style=\"text-align: right;\">\n",
       "      <th></th>\n",
       "      <th>TransactionNo</th>\n",
       "      <th>Grouped</th>\n",
       "    </tr>\n",
       "  </thead>\n",
       "  <tbody>\n",
       "    <tr>\n",
       "      <th>1</th>\n",
       "      <td>2</td>\n",
       "      <td>Scandinavian,Scandinavian</td>\n",
       "    </tr>\n",
       "    <tr>\n",
       "      <th>3</th>\n",
       "      <td>3</td>\n",
       "      <td>Hot chocolate,Jam,Cookies</td>\n",
       "    </tr>\n",
       "    <tr>\n",
       "      <th>7</th>\n",
       "      <td>5</td>\n",
       "      <td>Coffee,Pastry,Bread</td>\n",
       "    </tr>\n",
       "    <tr>\n",
       "      <th>10</th>\n",
       "      <td>6</td>\n",
       "      <td>Medialuna,Pastry,Muffin</td>\n",
       "    </tr>\n",
       "    <tr>\n",
       "      <th>13</th>\n",
       "      <td>7</td>\n",
       "      <td>Medialuna,Pastry,Coffee,Tea</td>\n",
       "    </tr>\n",
       "  </tbody>\n",
       "</table>\n",
       "</div>"
      ],
      "text/plain": [
       "    TransactionNo                      Grouped\n",
       "1               2    Scandinavian,Scandinavian\n",
       "3               3    Hot chocolate,Jam,Cookies\n",
       "7               5          Coffee,Pastry,Bread\n",
       "10              6      Medialuna,Pastry,Muffin\n",
       "13              7  Medialuna,Pastry,Coffee,Tea"
      ]
     },
     "execution_count": 80,
     "metadata": {},
     "output_type": "execute_result"
    }
   ],
   "source": [
    "df_sale = df[df['TransactionNo'].duplicated(keep=False)]\n",
    "df_sale['Grouped'] = df_sale.groupby('TransactionNo')['Items'].transform(lambda x: ','.join(x))\n",
    "df_sale1 = df_sale[['TransactionNo', 'Grouped']].drop_duplicates()\n",
    "df_sale1.head()"
   ]
  },
  {
   "cell_type": "code",
   "execution_count": 86,
   "id": "bc731872",
   "metadata": {},
   "outputs": [
    {
     "name": "stdout",
     "output_type": "stream",
     "text": [
      "('Coffee', 'Coffee') 1017\n",
      "('Coffee', 'Bread') 678\n",
      "('Coffee', 'Cake') 545\n",
      "('Coffee', 'Pastry') 450\n",
      "('Bread', 'Coffee') 403\n",
      "('Coffee', 'Sandwich') 370\n",
      "('Coffee', 'Tea') 331\n",
      "('Coffee', 'Medialuna') 322\n",
      "('Coffee', 'Cookies') 302\n",
      "('Bread', 'Bread') 239\n"
     ]
    }
   ],
   "source": [
    "from itertools import combinations\n",
    "from collections import Counter\n",
    "\n",
    "count = Counter()\n",
    "\n",
    "for row in df_sale1['Grouped']:\n",
    "    row_list = row.split(',')\n",
    "    count.update(Counter(combinations(row_list,2)))\n",
    "\n",
    "for key,value in count.most_common(10):\n",
    "    print(key, value)\n"
   ]
  },
  {
   "cell_type": "code",
   "execution_count": 87,
   "id": "45b34651",
   "metadata": {},
   "outputs": [
    {
     "name": "stdout",
     "output_type": "stream",
     "text": [
      "('Coffee', 'Coffee', 'Cake') 152\n",
      "('Coffee', 'Coffee', 'Bread') 115\n",
      "('Coffee', 'Coffee', 'Pastry') 111\n",
      "('Coffee', 'Coffee', 'Sandwich') 104\n",
      "('Coffee', 'Coffee', 'Cookies') 101\n",
      "('Coffee', 'Coffee', 'Medialuna') 81\n",
      "('Coffee', 'Coffee', 'Coffee') 77\n",
      "('Coffee', 'Coffee', 'Toast') 66\n",
      "('Coffee', 'Tea', 'Cake') 64\n",
      "('Coffee', 'Sandwich', 'Sandwich') 61\n"
     ]
    }
   ],
   "source": [
    "count = Counter()\n",
    "\n",
    "for row in df_sale1['Grouped']:\n",
    "    row_list = row.split(',')\n",
    "    count.update(Counter(combinations(row_list,3)))\n",
    "\n",
    "for key,value in count.most_common(10):\n",
    "    print(key, value)"
   ]
  },
  {
   "cell_type": "code",
   "execution_count": 88,
   "id": "85df4420",
   "metadata": {},
   "outputs": [
    {
     "name": "stdout",
     "output_type": "stream",
     "text": [
      "('Coffee', 'Coffee', 'Medialuna', 'Cookies') 24\n",
      "('Coffee', 'Coffee', 'Sandwich', 'Sandwich') 23\n",
      "('Coffee', 'Coffee', 'Coffee', 'Cookies') 19\n",
      "('Coffee', 'Coffee', 'Coffee', 'Cake') 16\n",
      "('Coffee', 'Coffee', 'Cake', 'Bread') 16\n",
      "('Soup', 'Soup', 'Cake', 'Tea') 16\n",
      "('Coffee', 'Coffee', 'Coffee', 'Sandwich') 15\n",
      "('Coffee', 'Coffee', 'Tea', 'Cake') 15\n",
      "('Coffee', 'Coffee', 'Cake', 'Sandwich') 15\n",
      "('Coffee', 'Coffee', 'Bread', 'Alfajores') 14\n"
     ]
    }
   ],
   "source": [
    "count = Counter()\n",
    "\n",
    "for row in df_sale1['Grouped']:\n",
    "    row_list = row.split(',')\n",
    "    count.update(Counter(combinations(row_list,4)))\n",
    "\n",
    "for key,value in count.most_common(10):\n",
    "    print(key, value)"
   ]
  },
  {
   "cell_type": "markdown",
   "id": "168c9da1",
   "metadata": {},
   "source": [
    "<div style=\"color:white;\n",
    "            display:fill;\n",
    "            border-radius:5px;\n",
    "            background-color:#FFFFE0;  \n",
    "            font-size:100%;\n",
    "            theme:cosmo;\n",
    "            letter-spacing:0.5px\">\n",
    "<h3 style=\"padding-left: 20px; padding-top: 20px; color:#4a4a4a; font-family:Arial;\"><b>The above analysis shows us that:</b>\n",
    "</h3>\n",
    "<ul style=\"padding-left: 40px; padding-bottom: 20px; color:#4a4a4a; font-size:110%;\">\n",
    "    <li>People order 2 coffees together</li>\n",
    "    <li><b>Cake,Bread</b> and <b>pastry</b> are some options people might like with coffee.</li>\n",
    "</ul>\n",
    "</div>\n",
    "    "
   ]
  },
  {
   "cell_type": "markdown",
   "id": "1d56509c",
   "metadata": {},
   "source": [
    "<div style=\"color:white;\n",
    "            display:fill;\n",
    "            border-radius:5px;\n",
    "            background-color:#F9ECEC;  \n",
    "            font-size:100%;\n",
    "            theme:cosmo;\n",
    "            letter-spacing:0.5px\">\n",
    "<h3 style=\"padding-left: 20px; padding-top: 20px; color:#4a4a4a; font-family:Arial;\"><b>Business Strategy</b>\n",
    "</h3>\n",
    "<p style=\"padding-left: 20px; color:#4a4a4a; font-size:110%;\">\n",
    "There are a couple of strategies that the bakery can adopt if is yet to use, to increase its sales considering the observations we made earlier.\n",
    "</p>\n",
    "<ul style=\"padding-left: 40px; padding-bottom: 20px; color:#4a4a4a; font-size:110%;\">\n",
    "    <li>Promotional discounts during <b>Summer months</b> can entice customers to come to the bakery.</li>\n",
    "    <li>Arranging placements of items such as <b>bread, cake</b> and <b>pastry</b> close to coffee ordering counter can be a good strategy to tempt customers into buying them.</li>\n",
    "<li> <b>Buy 1 coffee get 1 coffee free</b> offer can be implemented on Wednesdays to lure the coffee lovers on Wednesday so to increase sales. </li>\n",
    "</ul>\n",
    "</div>"
   ]
  },
  {
   "cell_type": "markdown",
   "id": "84a888a6",
   "metadata": {},
   "source": [
    "<b>Author :</b> Gulshan Acharjee\n",
    "\n",
    "<b>Dataset Source:</b> Kaggle"
   ]
  }
 ],
 "metadata": {
  "kernelspec": {
   "display_name": "Python 3 (ipykernel)",
   "language": "python",
   "name": "python3"
  },
  "language_info": {
   "codemirror_mode": {
    "name": "ipython",
    "version": 3
   },
   "file_extension": ".py",
   "mimetype": "text/x-python",
   "name": "python",
   "nbconvert_exporter": "python",
   "pygments_lexer": "ipython3",
   "version": "3.9.7"
  }
 },
 "nbformat": 4,
 "nbformat_minor": 5
}
